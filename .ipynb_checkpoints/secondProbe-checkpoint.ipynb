{
 "cells": [
  {
   "cell_type": "code",
   "execution_count": 1,
   "metadata": {},
   "outputs": [],
   "source": [
    "import pandas as pd\n",
    "import json\n",
    "import numpy as np\n",
    "\n",
    "def dataPipLine(saveF=True,fileName=\"outputFile\"):\n",
    "    drugs=pd.read_csv('drugs.csv')\n",
    "    clinical_trials=pd.read_csv('clinical_trials.csv')\n",
    "    pubmed=pd.read_csv('pubmed.csv')\n",
    "    dataJson={}\n",
    "    for index, rowD in drugs.iterrows():\n",
    "        #drug=rowD['drug']\n",
    "        drugID=rowD['atccode']\n",
    "        drug=rowD['drug']\n",
    "        dataJson[drugID]=[]\n",
    "        for index,row in pubmed[pubmed['title'].str.contains(\"(?i)\"+drug.lower())].iterrows():\n",
    "            dataJson[drugID].append(\n",
    "            {\n",
    "                'pubmed':{\n",
    "                    'id':row['id'],\n",
    "                    'date':row['date']\n",
    "                }\n",
    "            })\n",
    "        for indexT,rowT in clinical_trials[clinical_trials['scientific_title'].str.contains(\"(?i)\"+drug.lower())].iterrows():\n",
    "            dataJson[drugID].append(\n",
    "            {\n",
    "                'ClinicalTrial':{\n",
    "                    'id':rowT['id'],\n",
    "                    'date':rowT['date']\n",
    "                }\n",
    "            })\n",
    "        uniqDates=pubmed[pubmed['title'].str.contains(\"(?i)\"+drug.lower())]['date'].unique()\n",
    "        for date in uniqDates:\n",
    "            uniqsJournals=pubmed[pubmed['date'].str.contains(\"(?i)\"+date.lower())]['journal'].unique()\n",
    "            for journal in uniqsJournals:\n",
    "                dataJson[drugID].append(\n",
    "                {\n",
    "                    'journal':{\n",
    "                        'name':journal,\n",
    "                        'date':date\n",
    "                    }\n",
    "                }\n",
    "                )\n",
    "    if saveF:\n",
    "        nameF=fileName+\".json\"\n",
    "        with open(nameF,'w') as file:\n",
    "            json.dump(dataJson,file,indent=4)\n",
    "\n",
    "dataPipLine(fileName=\"outputFile\")\n",
    "    "
   ]
  },
  {
   "cell_type": "code",
   "execution_count": 3,
   "metadata": {},
   "outputs": [
    {
     "ename": "ModuleNotFoundError",
     "evalue": "No module named 'pruebas'",
     "output_type": "error",
     "traceback": [
      "\u001b[0;31m---------------------------------------------------------------------------\u001b[0m",
      "\u001b[0;31mModuleNotFoundError\u001b[0m                       Traceback (most recent call last)",
      "\u001b[0;32m<ipython-input-3-92ec1447933f>\u001b[0m in \u001b[0;36m<module>\u001b[0;34m\u001b[0m\n\u001b[0;32m----> 1\u001b[0;31m \u001b[0;32mfrom\u001b[0m \u001b[0mpruebas\u001b[0m \u001b[0;32mimport\u001b[0m \u001b[0mdataPipLine\u001b[0m\u001b[0;34m\u001b[0m\u001b[0;34m\u001b[0m\u001b[0m\n\u001b[0m\u001b[1;32m      2\u001b[0m \u001b[0;32mimport\u001b[0m \u001b[0mpandas\u001b[0m \u001b[0;32mas\u001b[0m \u001b[0mpd\u001b[0m\u001b[0;34m\u001b[0m\u001b[0;34m\u001b[0m\u001b[0m\n\u001b[1;32m      3\u001b[0m \u001b[0;32mimport\u001b[0m \u001b[0mjson\u001b[0m\u001b[0;34m\u001b[0m\u001b[0;34m\u001b[0m\u001b[0m\n\u001b[1;32m      4\u001b[0m \u001b[0;32mimport\u001b[0m \u001b[0mnumpy\u001b[0m \u001b[0;32mas\u001b[0m \u001b[0mnp\u001b[0m\u001b[0;34m\u001b[0m\u001b[0;34m\u001b[0m\u001b[0m\n\u001b[1;32m      5\u001b[0m \u001b[0;34m\u001b[0m\u001b[0m\n",
      "\u001b[0;31mModuleNotFoundError\u001b[0m: No module named 'pruebas'"
     ]
    }
   ],
   "source": [
    "import pandas as pd\n",
    "import json\n",
    "import numpy as np\n",
    "\n",
    "class dataPipLine(object):\n",
    "\n",
    "    def __init__(self,  drugsF=\"drugs.csv\",\n",
    "                        clinicF=\"clinical_trials.csv\",\n",
    "                        pubmedF=\"pubmed.csv\") -> None:\n",
    "        \"\"\"dataPipLine Object, this implements the method dpGetJson for process de data in arg\n",
    "\n",
    "        Args:\n",
    "            drugsF (str, optional): File with drugs information. Defaults to \"drugs.csv\".\n",
    "            clinicF (str, optional): File with clinical trials information. Defaults to \"clinical_trials.csv\".\n",
    "            pubmedF (str, optional): File . Defaults to \"pubmed.csv\".\n",
    "        \"\"\"\n",
    "        super().__init__()\n",
    "        self.drugsF=drugsF\n",
    "        self.clinicF=clinicF\n",
    "        self.pubmedF=pubmedF\n",
    "\n",
    "\n",
    "    def dPGetJson(self,saveF=True,fileName=\"outputFile\"):\n",
    "        \"\"\"This method allows to obtain a json object after data processing\n",
    "\n",
    "        Args:\n",
    "            saveF (bool, optional): Allows to save the JSON file. Defaults to True.\n",
    "            fileName (str, optional): Necessary to save the JSON file, use without file extension. Defaults to \"outputFile\".\n",
    "\n",
    "        Returns:\n",
    "            [Json object]: The JSON that contains the processed information\n",
    "        \"\"\"\n",
    "        drugs=pd.read_csv(self.drugsF)\n",
    "        clinical_trials=pd.read_csv(self.clinicF)\n",
    "        pubmed=pd.read_csv(self.pubmedF)\n",
    "        dataJson={}\n",
    "        for index, rowD in drugs.iterrows():\n",
    "            #drug=rowD['drug']\n",
    "            drugID=rowD['atccode']\n",
    "            drug=rowD['drug']\n",
    "            dataJson[drugID]=[]\n",
    "            for index,row in pubmed[pubmed['title'].str.contains(\"(?i)\"+drug.lower())].iterrows():\n",
    "                dataJson[drugID].append(\n",
    "                {\n",
    "                    'pubmed':{\n",
    "                        'id':row['id'],\n",
    "                        'date':row['date']\n",
    "                    }\n",
    "                })\n",
    "            for indexT,rowT in clinical_trials[clinical_trials['scientific_title'].str.contains(\"(?i)\"+drug.lower())].iterrows():\n",
    "                dataJson[drugID].append(\n",
    "                {\n",
    "                    'ClinicalTrial':{\n",
    "                        'id':rowT['id'],\n",
    "                        'date':rowT['date']\n",
    "                    }\n",
    "                })\n",
    "            uniqDates=pubmed[pubmed['title'].str.contains(\"(?i)\"+drug.lower())]['date'].unique()\n",
    "            for date in uniqDates:\n",
    "                uniqsJournals=pubmed[pubmed['date'].str.contains(\"(?i)\"+date.lower())]['journal'].unique()\n",
    "                for journal in uniqsJournals:\n",
    "                    dataJson[drugID].append(\n",
    "                    {\n",
    "                        'journal':{\n",
    "                            'name':journal,\n",
    "                            'date':date\n",
    "                        }\n",
    "                    }\n",
    "                    )\n",
    "        if saveF:\n",
    "            nameF=fileName+\".json\"\n",
    "            with open(nameF,'w') as file:\n",
    "                json.dump(dataJson,file,indent=4)\n",
    "        return dataJson\n",
    "\n",
    "newDataPipline=dataPipLine()\n",
    "jsonOutput=newDataPipline.dPGetJson(saveF=False)\n"
   ]
  },
  {
   "cell_type": "code",
   "execution_count": 10,
   "metadata": {},
   "outputs": [
    {
     "name": "stdout",
     "output_type": "stream",
     "text": [
      "{'A04AD': [{'pubmed': {'id': 1, 'date': '01/01/2019'}}, {'pubmed': {'id': 2, 'date': '01/01/2019'}}, {'pubmed': {'id': 3, 'date': '02/01/2019'}}, {'ClinicalTrial': {'id': 'NCT01967433', 'date': '1 January 2020'}}, {'ClinicalTrial': {'id': 'NCT04189588', 'date': '1 January 2020'}}, {'ClinicalTrial': {'id': 'NCT04237091', 'date': '1 January 2020'}}, {'journal': {'name': 'Journal of emergency nursing', 'date': '01/01/2019'}}, {'journal': {'name': 'The Journal of pediatrics', 'date': '02/01/2019'}}], 'S03AA': [{'pubmed': {'id': 4, 'date': '01/01/2020'}}, {'pubmed': {'id': 5, 'date': '02/01/2020'}}, {'pubmed': {'id': 6, 'date': '2020-01-01'}}, {'journal': {'name': 'Journal of food protection', 'date': '01/01/2020'}}, {'journal': {'name': 'American journal of veterinary research', 'date': '02/01/2020'}}, {'journal': {'name': 'Psychopharmacology', 'date': '2020-01-01'}}], 'V03AB': [{'pubmed': {'id': 6, 'date': '2020-01-01'}}, {'journal': {'name': 'Psychopharmacology', 'date': '2020-01-01'}}], 'A03BA': [], 'A01AD': [{'pubmed': {'id': 7, 'date': '01/02/2020'}}, {'pubmed': {'id': 8, 'date': '01/03/2020'}}, {'ClinicalTrial': {'id': 'NCT04188184', 'date': '27 April 2020'}}, {'journal': {'name': 'The journal of allergy and clinical immunology. In practice', 'date': '01/02/2020'}}, {'journal': {'name': 'The journal of allergy and clinical immunology. In practice', 'date': '01/03/2020'}}], '6302001': [], 'R01AD': [{'ClinicalTrial': {'id': 'NCT04153396', 'date': '1 January 2020'}}]}\n"
     ]
    }
   ],
   "source": []
  },
  {
   "cell_type": "code",
   "execution_count": 8,
   "metadata": {},
   "outputs": [
    {
     "name": "stdout",
     "output_type": "stream",
     "text": [
      "{'A04AD': [{'pubmed': {'id': 1, 'date': '01/01/2019'}}, {'pubmed': {'id': 2, 'date': '01/01/2019'}}, {'pubmed': {'id': 3, 'date': '02/01/2019'}}, {'ClinicalTrial': {'id': 'NCT01967433', 'date': '1 January 2020'}}, {'ClinicalTrial': {'id': 'NCT04189588', 'date': '1 January 2020'}}, {'ClinicalTrial': {'id': 'NCT04237091', 'date': '1 January 2020'}}, {'journal': {'name': 'Journal of emergency nursing', 'date': '01/01/2019'}}, {'journal': {'name': 'The Journal of pediatrics', 'date': '02/01/2019'}}], 'S03AA': [{'pubmed': {'id': 4, 'date': '01/01/2020'}}, {'pubmed': {'id': 5, 'date': '02/01/2020'}}, {'pubmed': {'id': 6, 'date': '2020-01-01'}}, {'journal': {'name': 'Journal of food protection', 'date': '01/01/2020'}}, {'journal': {'name': 'American journal of veterinary research', 'date': '02/01/2020'}}, {'journal': {'name': 'Psychopharmacology', 'date': '2020-01-01'}}], 'V03AB': [{'pubmed': {'id': 6, 'date': '2020-01-01'}}, {'journal': {'name': 'Psychopharmacology', 'date': '2020-01-01'}}], 'A03BA': [], 'A01AD': [{'pubmed': {'id': 7, 'date': '01/02/2020'}}, {'pubmed': {'id': 8, 'date': '01/03/2020'}}, {'ClinicalTrial': {'id': 'NCT04188184', 'date': '27 April 2020'}}, {'journal': {'name': 'The journal of allergy and clinical immunology. In practice', 'date': '01/02/2020'}}, {'journal': {'name': 'The journal of allergy and clinical immunology. In practice', 'date': '01/03/2020'}}], '6302001': [], 'R01AD': [{'ClinicalTrial': {'id': 'NCT04153396', 'date': '1 January 2020'}}]}\n"
     ]
    }
   ],
   "source": []
  }
 ],
 "metadata": {
  "kernelspec": {
   "display_name": "Python 3",
   "language": "python",
   "name": "python3"
  },
  "language_info": {
   "codemirror_mode": {
    "name": "ipython",
    "version": 3
   },
   "file_extension": ".py",
   "mimetype": "text/x-python",
   "name": "python",
   "nbconvert_exporter": "python",
   "pygments_lexer": "ipython3",
   "version": "3.7.6"
  }
 },
 "nbformat": 4,
 "nbformat_minor": 4
}
